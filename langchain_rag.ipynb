{
 "cells": [
  {
   "cell_type": "markdown",
   "metadata": {},
   "source": [
    "# Interactive Introduction to ML and AI with a RAG-System\n",
    "\n",
    "Based on a PDF containing a starter set of DND 5e character [sheets](https://dnd5echaractersheet.com/)\n"
   ]
  },
  {
   "cell_type": "markdown",
   "metadata": {},
   "source": [
    "## sys admin\n",
    "\n",
    "Create a .env file with the following content:\n",
    "\n",
    "`OPENAI_API_KEY = \"^<API_KEY>\"`"
   ]
  },
  {
   "cell_type": "code",
   "execution_count": 35,
   "metadata": {},
   "outputs": [],
   "source": [
    "# required libraries for the tutorial\n",
    "import openai\n",
    "import os\n",
    "from dotenv import load_dotenv\n",
    "from langchain.document_loaders import PyPDFLoader\n",
    "from langchain.chains import RetrievalQA\n",
    "from langchain_openai import ChatOpenAI\n",
    "from langchain_openai import OpenAIEmbeddings\n",
    "from langchain.text_splitter import RecursiveCharacterTextSplitter\n",
    "from langchain.vectorstores import Chroma"
   ]
  },
  {
   "cell_type": "markdown",
   "metadata": {},
   "source": [
    "## Load PDF data\n",
    "Loads the data and splits it into chunks.\n",
    "Each chunk contains 1000 characters max with a max overlap of 100 characters."
   ]
  },
  {
   "cell_type": "code",
   "execution_count": 36,
   "metadata": {},
   "outputs": [],
   "source": [
    "# \n",
    "text_splitter = RecursiveCharacterTextSplitter(chunk_size=1000, chunk_overlap=100)\n",
    "loader = PyPDFLoader(\"data/StarterSet_Charactersv2.pdf\")\n",
    "chunks = loader.load_and_split(text_splitter)"
   ]
  },
  {
   "cell_type": "markdown",
   "metadata": {},
   "source": [
    "### Check the chunks\n",
    "get chunk content with: chunks[index].page_content"
   ]
  },
  {
   "cell_type": "code",
   "execution_count": 37,
   "metadata": {},
   "outputs": [],
   "source": [
    "# print(chunks[0])\n",
    "# print(\"The chunk contains \" + chunks[index].page_content + \" characters\")"
   ]
  },
  {
   "cell_type": "markdown",
   "metadata": {},
   "source": [
    "## Setup models\n",
    "\n",
    "We need to prepare an embedding model to vectorise our chunks before storing them into our ChromaDB and a language model to generate answers to our questions."
   ]
  },
  {
   "cell_type": "code",
   "execution_count": 38,
   "metadata": {},
   "outputs": [],
   "source": [
    "\n",
    "# Load environment variables from .env file\n",
    "load_dotenv()\n",
    "\n",
    "# Access the API key using the variable name defined in the .env file\n",
    "openai.api_key = os.getenv(\"OPENAI_API_KEY\")\n",
    "\n",
    "# Initialize the OpenAI chat model\n",
    "llm = ChatOpenAI(model_name=\"gpt-3.5-turbo\", temperature=0.8)\n",
    "\n",
    "# initialize the OpenAI embeddings model\n",
    "embeddings = OpenAIEmbeddings()"
   ]
  },
  {
   "cell_type": "markdown",
   "metadata": {},
   "source": [
    "### Load / Create Chroma DB\n",
    "\n",
    "We check for the existence of the directory for 2 reasons:\n",
    "1) We use Openai Embeddings and pay for the embedding generation\n",
    "2) Chroma does not overwrite an existing database, but allows to upate it"
   ]
  },
  {
   "cell_type": "code",
   "execution_count": 39,
   "metadata": {},
   "outputs": [],
   "source": [
    "if os.path.exists(\"chroma\"):\n",
    "    print(\"Loading Chroma from disk...\")\n",
    "    Chroma(persist_directory=\"chroma\", embedding_function=embeddings)\n",
    "else:\n",
    "    chroma_db = Chroma.from_documents(documents=chunks,\n",
    "                                    embedding=embeddings,\n",
    "                                    persist_directory=\"chroma\",\n",
    "                                    collection_name=\"lc_chroma_demo\")"
   ]
  },
  {
   "cell_type": "markdown",
   "metadata": {},
   "source": [
    "### Test Your Database"
   ]
  },
  {
   "cell_type": "code",
   "execution_count": 40,
   "metadata": {},
   "outputs": [],
   "source": [
    "query = \"What is this document about?\""
   ]
  },
  {
   "cell_type": "markdown",
   "metadata": {},
   "source": [
    "Simple Similarity Search"
   ]
  },
  {
   "cell_type": "code",
   "execution_count": 41,
   "metadata": {},
   "outputs": [
    {
     "name": "stdout",
     "output_type": "stream",
     "text": [
      "[Document(page_content='Halfling\\xadrogue\\xad(criminal),\\xadpage\\xad2\\xadof\\xad2\\xad TM\\xad&\\xad©\\xad2014\\xadWizards\\xadof\\xadthe\\xadCoast\\xadLLC.\\xadPermission\\xadis\\xadgranted\\xadto\\xadphotocopy\\xadthis\\xaddocument\\xadfor\\xadpersonal\\xaduse.', metadata={'page': 5, 'source': 'data/StarterSet_Charactersv2.pdf'}), Document(page_content='fine\\xadclothes,\\xadsignet\\xadring,\\xadscroll \\xad \\nof pedigree\\n*While wearing this armor, you \\nhave disadvantage on Dexterity (Stealth)\\xadchecks.Lawful neutral\\nHuman\\xadfighter\\xad(noble),\\xadpage\\xad1\\xadof\\xad2\\xad TM\\xad&\\xad©\\xad2014\\xadWizards\\xadof\\xadthe\\xadCoast\\xadLLC.\\xadPermission\\xadis\\xadgranted\\xadto\\xadphotocopy\\xadthis\\xaddocument\\xadfor\\xadpersonal\\xaduse.', metadata={'page': 0, 'source': 'data/StarterSet_Charactersv2.pdf'}), Document(page_content='delivered in your trances, your god has called you to a new mission. A goblin tribe has made its lair in an ancient ruin now called Cragmaw Castle, where they have defiled a shrine once sacred to Oghma. Now dedicated to the vile goblin god Maglubiyet, the altar is an offense to Oghma that must not stand. You’re sure Oghma has greater things in store for you if you can \\ncomplete this quest. In the meantime, your visions suggest that Sister Garaele—a priest of Tymora, the goddess of luck—can aid you in the town of Phandalin. Alignment: Chaotic Good.  The pursuit and acquisition of \\nknowledge is for the benefit of all. Kingdoms and laws are useful so far as they allow knowledge to flourish. Tyrants who seek to suppress and control it are the worst villains. You share your knowledge freely, and use what you have learned to help where you can.Gaining Levels\\nAs you adventure and overcome challenges, you gain experience points (XP), as explained in the rulebook.', metadata={'page': 7, 'source': 'data/StarterSet_Charactersv2.pdf'}), Document(page_content='Background\\nYour family is no stranger to wealth, power, and privilege. In the glory days of Neverwinter, your parents were the count and countess of Corlinn Hill, a large estate located in the hills northeast of the city. But Mount Hotenow erupted thirty years ago, devastating Neverwinter and erasing Corlinn Hill from the map. Instead of growing up on an estate, you were raised in a small but comfortable town house in Waterdeep. As an adult, you stand to inherit a meaningless title and little else. Personal Goal: Civilize Phandalin.  You were meant for more than', metadata={'page': 1, 'source': 'data/StarterSet_Charactersv2.pdf'})]\n"
     ]
    }
   ],
   "source": [
    "result = chroma_db.similarity_search(query)\n",
    "print(result)"
   ]
  },
  {
   "cell_type": "markdown",
   "metadata": {},
   "source": [
    "Similarity Search with Scores"
   ]
  },
  {
   "cell_type": "code",
   "execution_count": 42,
   "metadata": {},
   "outputs": [
    {
     "name": "stdout",
     "output_type": "stream",
     "text": [
      "[(Document(page_content='Halfling\\xadrogue\\xad(criminal),\\xadpage\\xad2\\xadof\\xad2\\xad TM\\xad&\\xad©\\xad2014\\xadWizards\\xadof\\xadthe\\xadCoast\\xadLLC.\\xadPermission\\xadis\\xadgranted\\xadto\\xadphotocopy\\xadthis\\xaddocument\\xadfor\\xadpersonal\\xaduse.', metadata={'page': 5, 'source': 'data/StarterSet_Charactersv2.pdf'}), 0.49335355180071494), (Document(page_content='fine\\xadclothes,\\xadsignet\\xadring,\\xadscroll \\xad \\nof pedigree\\n*While wearing this armor, you \\nhave disadvantage on Dexterity (Stealth)\\xadchecks.Lawful neutral\\nHuman\\xadfighter\\xad(noble),\\xadpage\\xad1\\xadof\\xad2\\xad TM\\xad&\\xad©\\xad2014\\xadWizards\\xadof\\xadthe\\xadCoast\\xadLLC.\\xadPermission\\xadis\\xadgranted\\xadto\\xadphotocopy\\xadthis\\xaddocument\\xadfor\\xadpersonal\\xaduse.', metadata={'page': 0, 'source': 'data/StarterSet_Charactersv2.pdf'}), 0.5097083813913008), (Document(page_content='delivered in your trances, your god has called you to a new mission. A goblin tribe has made its lair in an ancient ruin now called Cragmaw Castle, where they have defiled a shrine once sacred to Oghma. Now dedicated to the vile goblin god Maglubiyet, the altar is an offense to Oghma that must not stand. You’re sure Oghma has greater things in store for you if you can \\ncomplete this quest. In the meantime, your visions suggest that Sister Garaele—a priest of Tymora, the goddess of luck—can aid you in the town of Phandalin. Alignment: Chaotic Good.  The pursuit and acquisition of \\nknowledge is for the benefit of all. Kingdoms and laws are useful so far as they allow knowledge to flourish. Tyrants who seek to suppress and control it are the worst villains. You share your knowledge freely, and use what you have learned to help where you can.Gaining Levels\\nAs you adventure and overcome challenges, you gain experience points (XP), as explained in the rulebook.', metadata={'page': 7, 'source': 'data/StarterSet_Charactersv2.pdf'}), 0.5115576016007095), (Document(page_content='Background\\nYour family is no stranger to wealth, power, and privilege. In the glory days of Neverwinter, your parents were the count and countess of Corlinn Hill, a large estate located in the hills northeast of the city. But Mount Hotenow erupted thirty years ago, devastating Neverwinter and erasing Corlinn Hill from the map. Instead of growing up on an estate, you were raised in a small but comfortable town house in Waterdeep. As an adult, you stand to inherit a meaningless title and little else. Personal Goal: Civilize Phandalin.  You were meant for more than', metadata={'page': 1, 'source': 'data/StarterSet_Charactersv2.pdf'}), 0.5213636119894848)]\n"
     ]
    }
   ],
   "source": [
    "result_with_scores = chroma_db.similarity_search_with_score(query)\n",
    "print(result_with_scores)"
   ]
  },
  {
   "cell_type": "code",
   "execution_count": 43,
   "metadata": {},
   "outputs": [],
   "source": [
    "chain = RetrievalQA.from_chain_type(llm=llm, chain_type=\"stuff\", retriever=chroma_db.as_retriever())"
   ]
  },
  {
   "cell_type": "code",
   "execution_count": 44,
   "metadata": {},
   "outputs": [
    {
     "name": "stdout",
     "output_type": "stream",
     "text": [
      "{'query': 'What is this document about?', 'result': 'The document you provided appears to be a character sheet for a halfling rogue (criminal) and a human fighter (noble) in a Dungeons & Dragons game. It includes details about their backgrounds, equipment, alignments, and personal goals.'}\n"
     ]
    }
   ],
   "source": [
    "response = chain.invoke(query)\n",
    "print(response)"
   ]
  },
  {
   "cell_type": "markdown",
   "metadata": {},
   "source": [
    "### Test some queries Yourself"
   ]
  },
  {
   "cell_type": "code",
   "execution_count": 45,
   "metadata": {},
   "outputs": [
    {
     "ename": "SyntaxError",
     "evalue": "incomplete input (1678908652.py, line 2)",
     "output_type": "error",
     "traceback": [
      "\u001b[1;36m  Cell \u001b[1;32mIn[45], line 2\u001b[1;36m\u001b[0m\n\u001b[1;33m    ## add the functionality to combine the functionalities above.\u001b[0m\n\u001b[1;37m                                                                  ^\u001b[0m\n\u001b[1;31mSyntaxError\u001b[0m\u001b[1;31m:\u001b[0m incomplete input\n"
     ]
    }
   ],
   "source": [
    "def get_response(query:str):\n",
    "    ## add the functionality to combine the functionalities above."
   ]
  }
 ],
 "metadata": {
  "kernelspec": {
   "display_name": "venv",
   "language": "python",
   "name": "python3"
  },
  "language_info": {
   "codemirror_mode": {
    "name": "ipython",
    "version": 3
   },
   "file_extension": ".py",
   "mimetype": "text/x-python",
   "name": "python",
   "nbconvert_exporter": "python",
   "pygments_lexer": "ipython3",
   "version": "3.11.0"
  }
 },
 "nbformat": 4,
 "nbformat_minor": 2
}
